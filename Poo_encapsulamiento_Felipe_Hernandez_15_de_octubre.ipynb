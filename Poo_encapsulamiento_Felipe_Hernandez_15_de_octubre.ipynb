{
  "nbformat": 4,
  "nbformat_minor": 0,
  "metadata": {
    "colab": {
      "provenance": []
    },
    "kernelspec": {
      "name": "python3",
      "display_name": "Python 3"
    },
    "language_info": {
      "name": "python"
    }
  },
  "cells": [
    {
      "cell_type": "markdown",
      "source": [
        "#Ejercicio diapositivas"
      ],
      "metadata": {
        "id": "nObAlb-wiZ0g"
      }
    },
    {
      "cell_type": "code",
      "execution_count": null,
      "metadata": {
        "colab": {
          "base_uri": "https://localhost:8080/"
        },
        "id": "nxkhjCeecyyy",
        "outputId": "069628a0-3513-4051-c60a-0a4ff7da31b9"
      },
      "outputs": [
        {
          "output_type": "stream",
          "name": "stdout",
          "text": [
            "Toyota\n",
            "Corolla\n"
          ]
        }
      ],
      "source": [
        "#Definir la clase \"Coche\"\n",
        "class Coche:\n",
        "  def __init__(self, marca, modelo):\n",
        "    self.marca = marca #Atributo público\n",
        "    self.modelo = modelo #Atributo público\n",
        "#Crear un objeto de la clase \"Coche\"\n",
        "mi_coche =Coche(\"Toyota\", \"Corolla\")\n",
        "#Acceso a los atributos del objeto\n",
        "print(mi_coche.marca) #Salida: Toyota\n",
        "print(mi_coche.modelo)#Salida:Corolla"
      ]
    },
    {
      "cell_type": "markdown",
      "source": [
        "#Ejercicio ejemplo(propuesto por el grupo de las chicas superpoderosas)"
      ],
      "metadata": {
        "id": "gQotbK15ifH-"
      }
    },
    {
      "cell_type": "code",
      "source": [
        "class Sabor:\n",
        "    def __init__(self, nombre, precio):\n",
        "        self.__nombre = nombre\n",
        "        self.__precio = precio\n",
        "\n",
        "    def obtener_datos(self):\n",
        "        return f\"{self.__nombre}: ${self.__precio} COP\"\n",
        "\n",
        "    def obtener_precio(self):\n",
        "        return self.__precio\n",
        "\n",
        "class Combo:\n",
        "    def __init__(self, nombre, productos, precio):\n",
        "        self.__nombre = nombre\n",
        "        self.__productos = productos\n",
        "        self.__precio = precio\n",
        "\n",
        "    def obtener_datos(self):\n",
        "        productos_str = \", \".join(self.__productos)\n",
        "        return f\"{self.__nombre}: {productos_str} - ${self.__precio} COP\"\n",
        "\n",
        "    def obtener_precio(self):\n",
        "        return self.__precio\n",
        "\n",
        "class Factura:\n",
        "    def __init__(self):\n",
        "        self.__items = []\n",
        "        self.__total = 0\n",
        "\n",
        "    def agregar_item(self, item):\n",
        "        self.__items.append(item)\n",
        "        self.__total += item.obtener_precio()\n",
        "\n",
        "    def mostrar_factura(self):\n",
        "        factura_str = \"Factura:\\n\"\n",
        "        for item in self.__items:\n",
        "            factura_str += f\"{item.obtener_datos()}\\n\"\n",
        "        factura_str += f\"Total a pagar: ${self.__total:.2f} COP\"\n",
        "        return factura_str\n",
        "sabores = [\n",
        "    Sabor(\"Vainilla\", 5000),\n",
        "    Sabor(\"Chocolate\", 2000),\n",
        "    Sabor(\"Fresa\", 4000)\n",
        "]\n",
        "combos = [\n",
        "    Combo(\"Combo 1\", [\"Vainilla\", \"Waffle\", \"Fresas con crema\"], 30000),\n",
        "    Combo(\"Combo 2\", [\"Chocolate\", \"Waffle\", \"Fresas con crema\"], 35000),\n",
        "    Combo(\"Combo 3\", [\"Fresa\", \"Waffle\", \"Fresas con crema\"], 32000)\n",
        "]\n",
        "\n",
        "# Mostrar menú de sabores\n",
        "print(\"Menú de Sabores:\")\n",
        "for i, sabor in enumerate(sabores):\n",
        "    print(f\"{i + 1}. {sabor.obtener_datos()}\")\n",
        "\n",
        "# Mostrar menú de combos\n",
        "print(\"\\nMenú de Combos:\")\n",
        "for i, combo in enumerate(combos):\n",
        "    print(f\"{i + 1}. {combo.obtener_datos()}\")\n",
        "\n",
        "# Crear la factura\n",
        "factura = Factura()\n",
        "\n",
        "# Solicitar selección del usuario para sabor\n",
        "sabor_seleccionado = None\n",
        "while sabor_seleccionado is None:\n",
        "    try:\n",
        "        seleccion_sabor = int(input(\"\\nSelecciona un sabor (1-3) o presiona 0 para pedir solo un combo: \"))\n",
        "        if seleccion_sabor == 0:\n",
        "            sabor_seleccionado = None\n",
        "            break\n",
        "        elif 1 <= seleccion_sabor <= 3:\n",
        "            sabor_seleccionado = sabores[seleccion_sabor - 1]\n",
        "            factura.agregar_item(sabor_seleccionado)  # Agregar el sabor a la factura\n",
        "        else:\n",
        "            print(\"Número inválido. Por favor, selecciona un número del 1 al 3.\")\n",
        "    except ValueError:\n",
        "        print(\"Entrada no válida. Por favor, ingresa un número.\")\n",
        "\n",
        "# Solicitar selección del usuario para combo\n",
        "combo_seleccionado = None\n",
        "while combo_seleccionado is None:\n",
        "    try:\n",
        "        seleccion_combo = int(input(\"Selecciona un combo (1-3) o presiona 0 para pedir solo un helado: \"))\n",
        "        if seleccion_combo == 0:\n",
        "            combo_seleccionado = None\n",
        "            break\n",
        "        elif 1 <= seleccion_combo <= 3:\n",
        "            combo_seleccionado = combos[seleccion_combo - 1]\n",
        "            factura.agregar_item(combo_seleccionado)  # Agregar el combo a la factura\n",
        "        else:\n",
        "            print(\"Número inválido. Por favor, selecciona un número del 1 al 3.\")\n",
        "    except ValueError:\n",
        "        print(\"Entrada no válida. Por favor, ingresa un número.\")\n",
        "\n",
        "# Mostrar la factura\n",
        "print(f\"\\n{factura.mostrar_factura()}\")"
      ],
      "metadata": {
        "colab": {
          "base_uri": "https://localhost:8080/"
        },
        "id": "zbx0lH4sig8H",
        "outputId": "de347401-b1e0-4fbf-da89-ac8043457a89"
      },
      "execution_count": null,
      "outputs": [
        {
          "output_type": "stream",
          "name": "stdout",
          "text": [
            "Menú de Sabores:\n",
            "1. Vainilla: $5000 COP\n",
            "2. Chocolate: $2000 COP\n",
            "3. Fresa: $4000 COP\n",
            "\n",
            "Menú de Combos:\n",
            "1. Combo 1: Vainilla, Waffle, Fresas con crema - $30000 COP\n",
            "2. Combo 2: Chocolate, Waffle, Fresas con crema - $35000 COP\n",
            "3. Combo 3: Fresa, Waffle, Fresas con crema - $32000 COP\n",
            "\n",
            "Selecciona un sabor (1-3) o presiona 0 para pedir solo un combo: 1\n",
            "Selecciona un combo (1-3) o presiona 0 para pedir solo un helado: 0\n",
            "\n",
            "Factura:\n",
            "Vainilla: $5000 COP\n",
            "Total a pagar: $5000.00 COP\n"
          ]
        }
      ]
    },
    {
      "cell_type": "markdown",
      "source": [
        "#Ejercicio propuesto por la profesora\n",
        "Elaborar un algoritmo que lea los datos de varios estudiantes (Nombre y tres calificaciones parciales) e imprime un reporte de calificaciones más la nota final. Para aprobar el curso, debe tener 70 o más en cada una de las tres calificaciones; la calificación final será el promedio. En caso de haber reprobado uno o más examenes, la calificación será NA (no acreditado).\n"
      ],
      "metadata": {
        "id": "JiK35Q-qlOf0"
      }
    },
    {
      "cell_type": "code",
      "source": [
        "#Los carramanes\n",
        "class Estudiante:\n",
        "    def __init__(self, nombre):\n",
        "        self.nombre = nombre\n",
        "        self.calificaciones = []\n",
        "\n",
        "    def agregar_calificacion(self, calificacion):\n",
        "        self.calificaciones.append(calificacion)\n",
        "\n",
        "    def calcular_promedio(self):\n",
        "        if all(calificacion >= 70 for calificacion in self.calificaciones):\n",
        "            return sum(self.calificaciones) / len(self.calificaciones)\n",
        "        else:\n",
        "            return \"NA\"\n",
        "\n",
        "\n",
        "class Clase:\n",
        "    def __init__(self):\n",
        "        self.estudiantes = []\n",
        "\n",
        "    def agregar_estudiante(self, estudiante):\n",
        "        self.estudiantes.append(estudiante)\n",
        "\n",
        "    def generar_reporte(self):\n",
        "        reporte = Reporte(self.estudiantes)\n",
        "        reporte.mostrar()\n",
        "\n",
        "\n",
        "class Reporte:\n",
        "    def __init__(self, estudiantes):\n",
        "        self.estudiantes = estudiantes\n",
        "\n",
        "    def mostrar(self):\n",
        "        print(f\"{'Nombre':<20} {'Calificación 1':<15} {'Calificación 2':<15} {'Calificación 3':<15} {'Promedio':<10}\")\n",
        "        print(\"=\" * 80)\n",
        "\n",
        "        for estudiante in self.estudiantes:\n",
        "            calificaciones = estudiante.calificaciones\n",
        "            promedio = estudiante.calcular_promedio()\n",
        "            print(f\"{estudiante.nombre:<20} \" +\n",
        "                  f\"{calificaciones[0] if len(calificaciones) > 0 else 'NA':<15} \" +\n",
        "                  f\"{calificaciones[1] if len(calificaciones) > 1 else 'NA':<15} \" +\n",
        "                  f\"{calificaciones[2] if len(calificaciones) > 2 else 'NA':<15} \" +\n",
        "                  f\"{promedio:<10}\")\n",
        "\n",
        "\n",
        "# Ejemplo de uso:\n",
        "clase = Clase()\n",
        "\n",
        "while True:\n",
        "    nombre = input(\"Ingrese el nombre del estudiante (o 'salir' para terminar): \")\n",
        "    if nombre.lower() == 'salir':\n",
        "        break\n",
        "\n",
        "    estudiante = Estudiante(nombre)\n",
        "    for i in range(3):\n",
        "        while True:\n",
        "            try:\n",
        "                calificacion = int(input(f\"Ingrese la calificación del parcial {i + 1}: \"))\n",
        "                if 0 <= calificacion <= 100:\n",
        "                    estudiante.agregar_calificacion(calificacion)\n",
        "                    break\n",
        "                else:\n",
        "                    print(\"La calificación debe estar entre 0 y 100.\")\n",
        "            except ValueError:\n",
        "                print(\"Ingrese un valor numérico válido.\")\n",
        "\n",
        "    clase.agregar_estudiante(estudiante)\n",
        "\n",
        "clase.generar_reporte()"
      ],
      "metadata": {
        "colab": {
          "base_uri": "https://localhost:8080/"
        },
        "id": "Y7ofZDX8uNl-",
        "outputId": "28250961-1ce2-47e2-ee85-fe33014055d7"
      },
      "execution_count": null,
      "outputs": [
        {
          "output_type": "stream",
          "name": "stdout",
          "text": [
            "Ingrese el nombre del estudiante (o 'salir' para terminar): Juan\n",
            "Ingrese la calificación del parcial 1: 100\n",
            "Ingrese la calificación del parcial 2: 70\n",
            "Ingrese la calificación del parcial 3: 70\n",
            "Ingrese el nombre del estudiante (o 'salir' para terminar): Lady\n",
            "Ingrese la calificación del parcial 1: 50\n",
            "Ingrese la calificación del parcial 2: 100\n",
            "Ingrese la calificación del parcial 3: 80\n",
            "Ingrese el nombre del estudiante (o 'salir' para terminar): Mario\n",
            "Ingrese la calificación del parcial 1: 80\n",
            "Ingrese la calificación del parcial 2: 95\n",
            "Ingrese la calificación del parcial 3: 95\n",
            "Ingrese el nombre del estudiante (o 'salir' para terminar): salir\n",
            "Nombre               Calificación 1  Calificación 2  Calificación 3  Promedio  \n",
            "================================================================================\n",
            "Juan                 100             70              70              80.0      \n",
            "Lady                 50              100             80              NA        \n",
            "Mario                80              95              95              90.0      \n"
          ]
        }
      ]
    }
  ]
}