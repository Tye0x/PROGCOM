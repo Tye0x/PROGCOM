{
  "nbformat": 4,
  "nbformat_minor": 0,
  "metadata": {
    "colab": {
      "provenance": []
    },
    "kernelspec": {
      "name": "python3",
      "display_name": "Python 3"
    },
    "language_info": {
      "name": "python"
    }
  },
  "cells": [
    {
      "cell_type": "markdown",
      "source": [
        "#Codigo con chatgpt\n",
        "##Descripción de las modificaciones:\n",
        "1. Simplificación de la estructura: Reduje la cantidad de código para que sea más fácil de entender, eliminando tipos de personajes y manteniendo solo un atributo adicional peligroso que identifica al monstruo.\n",
        "2. Llamar a los cazafantasmas: Se agregó la opción de llamar a los cazafantasmas. El jugador puede usar esta opción una vez para eliminar al monstruo sospechoso. Si elige correctamente, gana, pero si se equivoca, el monstruo lo mata.\n",
        "3. Encapsulamiento:\n",
        "- Encapsulamiento en la clase Personaje: Usamos un método obtener_info() para controlar cómo los atributos privados como nombre y descripción son accesibles fuera de la clase.\n",
        "- Encapsulamiento en la clase Juego: El jugador accede a los personajes a través de los métodos de la clase Juego, en lugar de acceder directamente a los atributos, lo cual es una buena práctica en POO.\n",
        "##Flujo del juego:\n",
        "1. El jugador ve una lista de personajes con su descripción (usando obtener_info() para acceder a los atributos).\n",
        "2. Tiene 3 intentos para identificar al monstruo peligroso.\n",
        "3. El jugador puede llamar a los cazafantasmas una vez. Si elige correctamente, gana; si falla, pierde.\n",
        "4. Si no usa los cazafantasmas, debe seguir identificando al monstruo peligroso manualmente.\n",
        "Con esto, el código es más sencillo y funcional, cumpliendo con las reglas del juego que planteaste."
      ],
      "metadata": {
        "id": "7Pc3ql1H3KYf"
      }
    },
    {
      "cell_type": "code",
      "source": [
        "import random\n",
        "\n",
        "\n",
        "class Personaje:\n",
        "    def __init__(self, nombre, descripcion, peligroso=False):\n",
        "        self.nombre = nombre\n",
        "        self.descripcion = descripcion\n",
        "        self.peligroso = peligroso\n",
        "\n",
        "    def obtener_info(self):\n",
        "\n",
        "        return f\"Nombre: {self.nombre}, Descripción: {self.descripcion}\"\n",
        "\n",
        "\n",
        "personajes = [\n",
        "    Personaje(\"La Llorona\", \"Mujer que llora buscando a sus hijos.\"),\n",
        "    Personaje(\"El Chupacabras\", \"Bestia que ataca animales.\"),\n",
        "    Personaje(\"El Nahual\", \"Brujo que se transforma en animal.\"),\n",
        "    Personaje(\"El Cadejo\", \"Perro feroz que puede proteger o atacar.\"),\n",
        "    Personaje(\"La Ciguapa\", \"Mujer con pies al revés que seduce a hombres.\"),\n",
        "    Personaje(\"El Sombrerón\", \"Fantasma que hechiza con su sombrero.\"),\n",
        "    Personaje(\"La Sayona\", \"Vengadora de mujeres infieles.\"),\n",
        "    Personaje(\"El Silbón\", \"Alma en pena que persigue borrachos.\"),\n",
        "    Personaje(\"El Duende\", \"Pequeño ser travieso.\"),\n",
        "    Personaje(\"La Patasola\", \"Mujer monstruosa con una sola pierna.\")\n",
        "]\n",
        "\n",
        "\n",
        "seleccion_personajes = random.sample(personajes, 6)\n",
        "personaje_peligroso = random.choice(seleccion_personajes)\n",
        "personaje_peligroso.peligroso = True\n",
        "\n",
        "\n",
        "class Juego:\n",
        "    def __init__(self):\n",
        "        self.personajes = seleccion_personajes\n",
        "        self.intentos = 3\n",
        "        self.cazafantasmas = 1\n",
        "    def mostrar_hoja_cotejo(self):\n",
        "\n",
        "        print(\"\\nHoja de Cotejo:\")\n",
        "        for i, personaje in enumerate(self.personajes):\n",
        "            print(f\"{i + 1}. {personaje.obtener_info()}\")\n",
        "\n",
        "    def verificar_monstruo(self, eleccion):\n",
        "        personaje = self.personajes[eleccion - 1]\n",
        "        if personaje.peligroso:\n",
        "            print(f\"\\n¡Era el monstruo peligroso ({personaje.nombre})! Has sido asesinado. Fin del juego.\")\n",
        "            return True\n",
        "        else:\n",
        "            print(f\"\\nHas dejado pasar a {personaje.nombre}, no era peligroso.\")\n",
        "            return False\n",
        "\n",
        "    def llamar_cazafantasmas(self, eleccion):\n",
        "        personaje = self.personajes[eleccion - 1]\n",
        "        if personaje.peligroso:\n",
        "            print(f\"\\n¡Llamaste a los cazafantasmas y atraparon al monstruo peligroso ({personaje.nombre})! Has ganado.\")\n",
        "            return True\n",
        "        else:\n",
        "            print(f\"\\n{personaje.nombre} no era el monstruo peligroso. Te mata en represalia. Fin del juego.\")\n",
        "            return True\n",
        "\n",
        "    def jugar(self):\n",
        "        print(\"¡Bienvenido al juego de Halloween!\")\n",
        "        self.mostrar_hoja_cotejo()\n",
        "\n",
        "        while self.intentos > 0:\n",
        "            try:\n",
        "                eleccion = int(input(f\"\\nElige al personaje que crees que es el monstruo peligroso (1-{len(self.personajes)}): \"))\n",
        "\n",
        "\n",
        "                if self.cazafantasmas > 0:\n",
        "                    usar_cazafantasmas = input(\"¿Quieres llamar a los cazafantasmas? (sí/no): \").lower()\n",
        "                    if usar_cazafantasmas == \"sí\":\n",
        "                        self.cazafantasmas -= 1\n",
        "                        if self.llamar_cazafantasmas(eleccion):\n",
        "                            break\n",
        "                    else:\n",
        "                        if self.verificar_monstruo(eleccion):\n",
        "                            break\n",
        "                else:\n",
        "                    if self.verificar_monstruo(eleccion):\n",
        "                        break\n",
        "\n",
        "                self.intentos -= 1\n",
        "                print(f\"\\nTe quedan {self.intentos} intentos.\")\n",
        "            except (ValueError, IndexError):\n",
        "                print(\"\\nElección inválida. Inténtalo de nuevo.\")\n",
        "\n",
        "        if self.intentos == 0:\n",
        "            print(\"\\n¡Felicidades! Has dejado pasar a todos los personajes correctos.\")\n",
        "\n",
        "\n",
        "juego = Juego()\n",
        "juego.jugar()\n"
      ],
      "metadata": {
        "colab": {
          "base_uri": "https://localhost:8080/"
        },
        "id": "HgKiwJSN3M6y",
        "outputId": "8d6ccc21-fb38-4eb3-adfe-a564aede80e5"
      },
      "execution_count": null,
      "outputs": [
        {
          "output_type": "stream",
          "name": "stdout",
          "text": [
            "¡Bienvenido al juego de Halloween!\n",
            "\n",
            "Hoja de Cotejo:\n",
            "1. Nombre: La Patasola, Descripción: Mujer monstruosa con una sola pierna.\n",
            "2. Nombre: El Chupacabras, Descripción: Bestia que ataca animales.\n",
            "3. Nombre: La Ciguapa, Descripción: Mujer con pies al revés que seduce a hombres.\n",
            "4. Nombre: El Nahual, Descripción: Brujo que se transforma en animal.\n",
            "5. Nombre: El Cadejo, Descripción: Perro feroz que puede proteger o atacar.\n",
            "6. Nombre: El Sombrerón, Descripción: Fantasma que hechiza con su sombrero.\n",
            "\n",
            "Elige al personaje que crees que es el monstruo peligroso (1-6): 5\n",
            "¿Quieres llamar a los cazafantasmas? (sí/no): no\n",
            "\n",
            "¡Era el monstruo peligroso (El Cadejo)! Has sido asesinado. Fin del juego.\n"
          ]
        }
      ]
    }
  ]
}