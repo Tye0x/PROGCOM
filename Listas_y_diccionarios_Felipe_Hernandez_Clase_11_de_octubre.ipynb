{
  "nbformat": 4,
  "nbformat_minor": 0,
  "metadata": {
    "colab": {
      "provenance": []
    },
    "kernelspec": {
      "name": "python3",
      "display_name": "Python 3"
    },
    "language_info": {
      "name": "python"
    }
  },
  "cells": [
    {
      "cell_type": "markdown",
      "source": [
        "#Listas\n",
        "Definición: Es un conjunto de objetos que se identifican por un nombre y un índice. Las listas en Python se definen entre [] y los objetos que éstas contienen se separan por comas ( , ).\n",
        "##Métodos\n",
        "1. Append: Añade un ítem al final de la lista\n",
        "2. clear: Vacía todos los ítems de una lista\n",
        "3. extend: Une una lista a otra\n",
        "4. count: Cuenta el número de veces que aparece un ítem\n",
        "5. index: Devuelve el índice en el que aparece un ítem (error si no aparece):\n",
        "6. insert: Agrega un ítem a la lista en un índice específico\n",
        "7. pop: Extrae un ítem de la lista y lo borra\n",
        "8. remove: Borra el primer ítem de la lista cuyo valor concuerde con el que indicamos\n",
        "9. reverse: Le da la vuelta a la lista actual\n",
        "10. sort: Ordena automáticamente los ítems de una lista por su valor de menor a mayor\n"
      ],
      "metadata": {
        "id": "vmdL1111hMm-"
      }
    },
    {
      "cell_type": "code",
      "execution_count": null,
      "metadata": {
        "colab": {
          "base_uri": "https://localhost:8080/"
        },
        "id": "uVEdBAzVSwTz",
        "outputId": "087333fe-d72f-41a6-e8c5-fe4c2a1c4069"
      },
      "outputs": [
        {
          "output_type": "stream",
          "name": "stdout",
          "text": [
            "[23, 9, 4, 27, 8, 18, 4]\n",
            "['Juan', 'David', 'Acevedo', 'Vega', 'Jenith', 'Vega', 'Jhon']\n"
          ]
        }
      ],
      "source": [
        "#Append()\n",
        "lista1= [23,9,4,27,8,18]\n",
        "lista1.append(4)\n",
        "print(lista1)\n",
        "lista2= [\"Juan\", \"David\", \"Acevedo\", \"Vega\", \"Jenith\", \"Vega\"]\n",
        "lista2.append(\"Jhon\")\n",
        "print(lista2)"
      ]
    },
    {
      "cell_type": "code",
      "source": [
        "#clear\n",
        "lista1= [23,9,4,27,8,18]\n",
        "lista1.clear()\n",
        "print(lista1)\n",
        "lista2= [\"Juan\", \"David\", \"Acevedo\", \"Vega\", \"Jenith\", \"Vega\"]\n",
        "lista2.clear()\n",
        "print(lista2)"
      ],
      "metadata": {
        "colab": {
          "base_uri": "https://localhost:8080/"
        },
        "id": "vjS5MWUKkP9w",
        "outputId": "b01d6d91-265d-4cba-d4e1-062f9c7adcaa"
      },
      "execution_count": null,
      "outputs": [
        {
          "output_type": "stream",
          "name": "stdout",
          "text": [
            "[]\n",
            "[]\n"
          ]
        }
      ]
    },
    {
      "cell_type": "code",
      "source": [
        "#extend\n",
        "lista1= [23,9,4,27,8,18]\n",
        "lista2= [\"Juan\", \"David\", \"Acevedo\", \"Vega\", \"Jenith\", \"Vega\"]\n",
        "lista1.extend(lista2)\n",
        "print(lista1)"
      ],
      "metadata": {
        "colab": {
          "base_uri": "https://localhost:8080/"
        },
        "id": "czJbnVWgls6b",
        "outputId": "a0e5dee7-103f-44be-e463-c142c2c9f202"
      },
      "execution_count": null,
      "outputs": [
        {
          "output_type": "stream",
          "name": "stdout",
          "text": [
            "[23, 9, 4, 27, 8, 18, 'Juan', 'David', 'Acevedo', 'Vega', 'Jenith', 'Vega']\n"
          ]
        }
      ]
    },
    {
      "cell_type": "code",
      "source": [
        "#count\n",
        "lista1= [23,9,4,27,8,18]\n",
        "lista2= [\"Juan\", \"David\", \"Acevedo\", \"Vega\", \"Jenith\", \"Vega\"]\n",
        "print(lista1.count(4))\n",
        "print(lista2.count(\"Vega\"))"
      ],
      "metadata": {
        "colab": {
          "base_uri": "https://localhost:8080/"
        },
        "id": "OfxWnaBll4Ba",
        "outputId": "288fd438-b116-4bec-92a1-0c7421cc9a7f"
      },
      "execution_count": null,
      "outputs": [
        {
          "output_type": "stream",
          "name": "stdout",
          "text": [
            "1\n",
            "2\n"
          ]
        }
      ]
    },
    {
      "cell_type": "code",
      "source": [
        "#index\n",
        "lista1= [23,9,4,27,8,18]\n",
        "lista2= [\"Juan\", \"David\", \"Acevedo\", \"Vega\", \"Jenith\", \"Vega\"]\n",
        "print(lista1.index(4))\n",
        "print(lista2.index(\"Vega\"))"
      ],
      "metadata": {
        "colab": {
          "base_uri": "https://localhost:8080/"
        },
        "id": "KRH5riV9l9JO",
        "outputId": "f6ffcd20-9372-488d-a4e9-1d358839dca1"
      },
      "execution_count": null,
      "outputs": [
        {
          "output_type": "stream",
          "name": "stdout",
          "text": [
            "2\n",
            "3\n"
          ]
        }
      ]
    },
    {
      "cell_type": "code",
      "source": [
        "#insert\n",
        "lista1= [23,9,4,27,8,18]\n",
        "lista2= [\"Juan\", \"David\", \"Acevedo\", \"Vega\", \"Jenith\", \"Vega\"]\n",
        "lista1.insert(2,4)\n",
        "print(lista1)\n",
        "lista2.insert(5,\"Jhon\")\n",
        "print(lista2)"
      ],
      "metadata": {
        "colab": {
          "base_uri": "https://localhost:8080/"
        },
        "id": "pmZOYOemmEOh",
        "outputId": "456614e7-3fba-4523-d8da-96cbead15b2f"
      },
      "execution_count": null,
      "outputs": [
        {
          "output_type": "stream",
          "name": "stdout",
          "text": [
            "[23, 9, 4, 4, 27, 8, 18]\n",
            "['Juan', 'David', 'Acevedo', 'Vega', 'Jenith', 'Jhon', 'Vega']\n"
          ]
        }
      ]
    },
    {
      "cell_type": "code",
      "source": [
        "#pop\n",
        "lista1= [23,9,4,27,8,18]\n",
        "lista2= [\"Juan\", \"David\", \"Acevedo\", \"Vega\", \"Jenith\", \"Vega\"]\n",
        "lista1.pop(2)\n",
        "print(lista1)\n",
        "lista2.pop(5)\n",
        "print(lista2)"
      ],
      "metadata": {
        "colab": {
          "base_uri": "https://localhost:8080/"
        },
        "id": "duQXLY0WmRLT",
        "outputId": "bbec2a02-b066-4ef9-a764-4109def5afc5"
      },
      "execution_count": null,
      "outputs": [
        {
          "output_type": "stream",
          "name": "stdout",
          "text": [
            "[23, 9, 27, 8, 18]\n",
            "['Juan', 'David', 'Acevedo', 'Vega', 'Jenith']\n"
          ]
        }
      ]
    },
    {
      "cell_type": "code",
      "source": [
        "#remove\n",
        "lista1= [23,9,4,27,8,18]\n",
        "lista2= [\"Juan\", \"David\", \"Acevedo\", \"Vega\", \"Jenith\", \"Vega\"]\n",
        "lista1.remove(4)\n",
        "print(lista1)\n",
        "lista2.remove(\"Vega\")\n",
        "print(lista2)"
      ],
      "metadata": {
        "colab": {
          "base_uri": "https://localhost:8080/"
        },
        "id": "dHQriC1imWup",
        "outputId": "dfe7226b-f8e0-42a6-d719-7bad8a3ff448"
      },
      "execution_count": null,
      "outputs": [
        {
          "output_type": "stream",
          "name": "stdout",
          "text": [
            "[23, 9, 27, 8, 18]\n",
            "['Juan', 'David', 'Acevedo', 'Jenith', 'Vega']\n"
          ]
        }
      ]
    },
    {
      "cell_type": "code",
      "source": [
        "#reverse\n",
        "lista1= [23,9,4,27,8,18]\n",
        "lista2= [\"Juan\", \"David\", \"Acevedo\", \"Vega\", \"Jenith\", \"Vega\"]\n",
        "lista1.reverse()\n",
        "print(lista1)\n",
        "lista2.reverse()\n",
        "print(lista2)"
      ],
      "metadata": {
        "colab": {
          "base_uri": "https://localhost:8080/"
        },
        "id": "Z3X8-tLmmbZG",
        "outputId": "14a783a7-6575-443a-bc57-286b0b04790e"
      },
      "execution_count": null,
      "outputs": [
        {
          "output_type": "stream",
          "name": "stdout",
          "text": [
            "[18, 8, 27, 4, 9, 23]\n",
            "['Vega', 'Jenith', 'Vega', 'Acevedo', 'David', 'Juan']\n"
          ]
        }
      ]
    },
    {
      "cell_type": "code",
      "source": [
        "#sort\n",
        "lista1= [23,9,4,27,8,18]\n",
        "lista2= [\"Juan\", \"David\", \"Acevedo\", \"Vega\", \"Jenith\", \"Vega\"]\n",
        "lista1.sort()\n",
        "print(lista1)\n",
        "lista2.sort()\n",
        "print(lista2)"
      ],
      "metadata": {
        "colab": {
          "base_uri": "https://localhost:8080/"
        },
        "id": "a71DJVY1mgDt",
        "outputId": "9522ec97-610d-4bbb-b0ba-5b239c06ae4c"
      },
      "execution_count": null,
      "outputs": [
        {
          "output_type": "stream",
          "name": "stdout",
          "text": [
            "[4, 8, 9, 18, 23, 27]\n",
            "['Acevedo', 'David', 'Jenith', 'Juan', 'Vega', 'Vega']\n"
          ]
        }
      ]
    },
    {
      "cell_type": "markdown",
      "source": [
        "#Diccionarios\n",
        "Son una estructura de datos que permite almacenar su contenido en forma de llave y valor.\n",
        "##Métodos\n",
        "1. get: Busca un elemento a partir de su clave y si no lo encuentra devuelve un valor por defecto\n",
        "2. keys: Genera una lista en clave de los registros del diccionario\n",
        "3. values: Genera una lista en valor de los registros del diccionario\n",
        "4. items: Genera una lista en clave-valor de los registros del diccionario\n",
        "5. pop: Extrae un registro de un diccionario a partir de su clave y lo borra, acepta valor por defecto\n",
        "6. clear: Borra todos los registros de un diccionario\n",
        "7. update: El método update se llama sobre un diccionario y tiene como entrada otro diccionario.\n",
        "8. popitem: El método popitem() elimina de manera aleatoria un elemento del diccionario.\n",
        "9. copy: Retorna una copia superficial del diccionario.\n",
        "10. fromkeys(seq, valor): Crea un nuevo diccionario a partir de una secuencia de claves, asignándoles un valor común.\n"
      ],
      "metadata": {
        "id": "yNJVoY0-mlFE"
      }
    },
    {
      "cell_type": "code",
      "source": [
        "#get\n",
        "dict1={\"nombre\":\"Juan\",\"apellido\":\"Acevedo\"}\n",
        "dict2={\"día\":23,\"mes\":9,\"año\":2004,}\n",
        "dict1.get(4)\n",
        "print(dict1)\n",
        "dict2.get(\"Vega\")\n",
        "print(dict2)"
      ],
      "metadata": {
        "colab": {
          "base_uri": "https://localhost:8080/"
        },
        "id": "1F6IXq1PnkZd",
        "outputId": "182ff100-0515-4538-b264-45741ffb5de2"
      },
      "execution_count": null,
      "outputs": [
        {
          "output_type": "stream",
          "name": "stdout",
          "text": [
            "{'nombre': 'Juan', 'apellido': 'Acevedo'}\n",
            "{'día': 23, 'mes': 9, 'año': 2004}\n"
          ]
        }
      ]
    },
    {
      "cell_type": "code",
      "source": [
        "#keys\n",
        "dict1={\"nombre\":\"Juan\",\"apellido\":\"Acevedo\"}\n",
        "dict2={\"día\":23,\"mes\":9,\"año\":2004,}\n",
        "print(dict1.keys())\n",
        "print(dict2.keys())"
      ],
      "metadata": {
        "colab": {
          "base_uri": "https://localhost:8080/"
        },
        "id": "1tWGVYBeo93V",
        "outputId": "d7a9eef0-c084-493b-93a8-1b3e6c2e68e7"
      },
      "execution_count": null,
      "outputs": [
        {
          "output_type": "stream",
          "name": "stdout",
          "text": [
            "dict_keys(['nombre', 'apellido'])\n",
            "dict_keys(['día', 'mes', 'año'])\n"
          ]
        }
      ]
    },
    {
      "cell_type": "code",
      "source": [
        "#values\n",
        "dict1={\"nombre\":\"Juan\",\"apellido\":\"Acevedo\"}\n",
        "dict2={\"día\":23,\"mes\":9,\"año\":2004,}\n",
        "print(dict1.values())\n",
        "print(dict2.values())"
      ],
      "metadata": {
        "colab": {
          "base_uri": "https://localhost:8080/"
        },
        "id": "tK0lY-nnpDv2",
        "outputId": "cdec3478-09dd-415d-c6c9-1a49345720ff"
      },
      "execution_count": null,
      "outputs": [
        {
          "output_type": "stream",
          "name": "stdout",
          "text": [
            "dict_values(['Juan', 'Acevedo'])\n",
            "dict_values([23, 9, 2004])\n"
          ]
        }
      ]
    },
    {
      "cell_type": "code",
      "source": [
        "#items\n",
        "dict1={\"nombre\":\"Juan\",\"apellido\":\"Acevedo\"}\n",
        "dict2={\"día\":23,\"mes\":9,\"año\":2004,}\n",
        "dict1.items()\n",
        "print(dict1)\n",
        "dict2.items()\n",
        "print(dict2)"
      ],
      "metadata": {
        "colab": {
          "base_uri": "https://localhost:8080/"
        },
        "id": "ojAy7uVZpKJV",
        "outputId": "ace8430d-c2fb-47a0-c5a1-6f97c00a687e"
      },
      "execution_count": null,
      "outputs": [
        {
          "output_type": "stream",
          "name": "stdout",
          "text": [
            "{'nombre': 'Juan', 'apellido': 'Acevedo'}\n",
            "{'día': 23, 'mes': 9, 'año': 2004}\n"
          ]
        }
      ]
    },
    {
      "cell_type": "code",
      "source": [
        "#pop\n",
        "dict1={\"nombre\":\"Juan\",\"apellido\":\"Acevedo\"}\n",
        "dict2={\"día\":23,\"mes\":9,\"año\":2004,}\n",
        "dict1.pop(\"nombre\")\n",
        "print(dict1)\n",
        "dict2.pop(\"mes\")\n",
        "print(dict2)"
      ],
      "metadata": {
        "colab": {
          "base_uri": "https://localhost:8080/"
        },
        "id": "pSLFpnKrpY19",
        "outputId": "c4e00b1d-4bc7-48de-a753-09159c6b3c38"
      },
      "execution_count": null,
      "outputs": [
        {
          "output_type": "stream",
          "name": "stdout",
          "text": [
            "{'apellido': 'Acevedo'}\n",
            "{'día': 23, 'año': 2004}\n"
          ]
        }
      ]
    },
    {
      "cell_type": "code",
      "source": [
        "#clear\n",
        "dict1={\"nombre\":\"Juan\",\"apellido\":\"Acevedo\"}\n",
        "dict2={\"día\":23,\"mes\":9,\"año\":2004,}\n",
        "dict1.clear()\n",
        "print(dict1)\n",
        "dict2.clear()\n",
        "print(dict2)"
      ],
      "metadata": {
        "colab": {
          "base_uri": "https://localhost:8080/"
        },
        "id": "4suJV60lp3Q1",
        "outputId": "5925dbc6-25f6-4398-ed63-98dadac4fa5a"
      },
      "execution_count": null,
      "outputs": [
        {
          "output_type": "stream",
          "name": "stdout",
          "text": [
            "{}\n",
            "{}\n"
          ]
        }
      ]
    },
    {
      "cell_type": "code",
      "source": [
        "#update\n",
        "dict1={\"nombre\":\"Juan\",\"apellido\":\"Acevedo\"}\n",
        "dict2={\"día\":23,\"mes\":9,\"año\":2004,}\n",
        "dict1.update(dict2)\n",
        "print(dict1)"
      ],
      "metadata": {
        "colab": {
          "base_uri": "https://localhost:8080/"
        },
        "id": "KVTryxepp8Pb",
        "outputId": "4d06ce4e-9fbc-4eb8-bf4f-bd32c7009b05"
      },
      "execution_count": null,
      "outputs": [
        {
          "output_type": "stream",
          "name": "stdout",
          "text": [
            "{'nombre': 'Juan', 'apellido': 'Acevedo', 'día': 23, 'mes': 9, 'año': 2004}\n"
          ]
        }
      ]
    },
    {
      "cell_type": "code",
      "source": [
        "#popitem\n",
        "dict1={\"nombre\":\"Juan\",\"apellido\":\"Acevedo\"}\n",
        "dict2={\"día\":23,\"mes\":9,\"año\":2004,}\n",
        "dict1.popitem()\n",
        "print(dict1)\n",
        "dict2.popitem()\n",
        "print(dict2)"
      ],
      "metadata": {
        "colab": {
          "base_uri": "https://localhost:8080/"
        },
        "id": "se_iRciBqBR7",
        "outputId": "021dc03b-7814-4786-af1f-8f0006a4d659"
      },
      "execution_count": null,
      "outputs": [
        {
          "output_type": "stream",
          "name": "stdout",
          "text": [
            "{'nombre': 'Juan'}\n",
            "{'día': 23, 'mes': 9}\n"
          ]
        }
      ]
    },
    {
      "cell_type": "code",
      "source": [
        "#copy\n",
        "dict1={\"nombre\":\"Juan\",\"apellido\":\"Acevedo\"}\n",
        "dict2={\"día\":23,\"mes\":9,\"año\":2004,}\n",
        "dict1.copy()\n",
        "print(dict1)\n",
        "dict2.copy()\n",
        "print(dict2)"
      ],
      "metadata": {
        "colab": {
          "base_uri": "https://localhost:8080/"
        },
        "id": "boA1SPt0qlOl",
        "outputId": "ba5dbba3-7777-4a91-9d42-6d2f99ccd908"
      },
      "execution_count": null,
      "outputs": [
        {
          "output_type": "stream",
          "name": "stdout",
          "text": [
            "{'nombre': 'Juan', 'apellido': 'Acevedo'}\n",
            "{'día': 23, 'mes': 9, 'año': 2004}\n"
          ]
        }
      ]
    },
    {
      "cell_type": "code",
      "source": [
        "#fromkeys\n",
        "dict1={\"nombre\":\"Juan\",\"apellido\":\"Acevedo\"}\n",
        "dict2={\"día\":23,\"mes\":9,\"año\":2004,}\n",
        "dict1.fromkeys(\"nombre\")\n",
        "print(dict1)\n",
        "dict2.fromkeys(\"mes\")\n",
        "print(dict2)"
      ],
      "metadata": {
        "colab": {
          "base_uri": "https://localhost:8080/"
        },
        "id": "9qIO4F_VqtWf",
        "outputId": "8c4d32a0-34d1-45a1-befe-fc3b1a8b7db3"
      },
      "execution_count": null,
      "outputs": [
        {
          "output_type": "stream",
          "name": "stdout",
          "text": [
            "{'nombre': 'Juan', 'apellido': 'Acevedo'}\n",
            "{'día': 23, 'mes': 9, 'año': 2004}\n"
          ]
        }
      ]
    },
    {
      "cell_type": "markdown",
      "source": [
        "#Ejercicios de clase (listas)"
      ],
      "metadata": {
        "id": "gFvenOaDrtyg"
      }
    },
    {
      "cell_type": "markdown",
      "source": [
        "#Ejercicio 1\n",
        "Dada la lista: list1 = [100, 200, 300, 400, 500], se desea que imprima [500, 400, 300, 200, 100]"
      ],
      "metadata": {
        "id": "aApdaOAOr-uR"
      }
    },
    {
      "cell_type": "code",
      "source": [
        "list1= [100, 200, 300, 400, 500]\n",
        "list1.reverse()\n",
        "print(list1)"
      ],
      "metadata": {
        "colab": {
          "base_uri": "https://localhost:8080/"
        },
        "id": "SVi7vy7ur4da",
        "outputId": "450ec9a0-2a10-47e7-e65d-73b4841a764c"
      },
      "execution_count": null,
      "outputs": [
        {
          "output_type": "stream",
          "name": "stdout",
          "text": [
            "[500, 400, 300, 200, 100]\n"
          ]
        }
      ]
    },
    {
      "cell_type": "markdown",
      "source": [
        "#Ejercicio 2\n",
        "Escriba un programa que unas dos listas, de tal forma que\n",
        "lista1 = [\"M\", \"nom\", \"e\", \"e\"]\n",
        "lista2 = [\"i\", \"bre\", \"s\", “quis\"]\n",
        "da como resultado ['Mi', 'nombre', 'es', 'equis'] (reemplazar el nombre por el del estudiante)"
      ],
      "metadata": {
        "id": "RuXU-PYDsRMp"
      }
    },
    {
      "cell_type": "code",
      "source": [
        "lista1 = [\"M\", \"nom\", \"e\", \"J\"]\n",
        "lista2 = [\"i\", \"bre\", \"s\", \"uan\"]\n",
        "lista3 = []\n",
        "for i in range(len(lista1)):\n",
        "  lista3.append(lista1[i] + lista2[i])\n",
        "print(lista3)\n"
      ],
      "metadata": {
        "colab": {
          "base_uri": "https://localhost:8080/"
        },
        "id": "NSSbFBEis5Yi",
        "outputId": "d983952b-fcd5-4085-bae5-f5ee93362184"
      },
      "execution_count": null,
      "outputs": [
        {
          "output_type": "stream",
          "name": "stdout",
          "text": [
            "['Mi', 'nombre', 'es', 'Juan']\n"
          ]
        }
      ]
    },
    {
      "cell_type": "markdown",
      "source": [
        "#Ejercicio 3\n",
        "Desarrolle un programa que calcule el doble de cada uno de los elementos de una lista. Ejemplo: si la lista es [1, 2, 3, 4, 5, 6, 7] da como resultado [2, 4, 6, 8, 10, 12, 14]."
      ],
      "metadata": {
        "id": "_Rx3RkKOtF30"
      }
    },
    {
      "cell_type": "code",
      "source": [
        "lista1 = [1, 2, 3, 4, 5, 6, 7]\n",
        "lista2 = []\n",
        "for i in range(len(lista1)):\n",
        "  lista2.append(lista1[i] * 2)\n",
        "print(lista2)"
      ],
      "metadata": {
        "colab": {
          "base_uri": "https://localhost:8080/"
        },
        "id": "F3AFEDExtPM5",
        "outputId": "b451eb0d-28b6-44f7-a0d7-feaddaf60088"
      },
      "execution_count": null,
      "outputs": [
        {
          "output_type": "stream",
          "name": "stdout",
          "text": [
            "[2, 4, 6, 8, 10, 12, 14]\n"
          ]
        }
      ]
    },
    {
      "cell_type": "markdown",
      "source": [
        "#Ejercicio 4\n",
        "Dadas dos listas\n",
        "a. lista1 = [\"Hola \", \"toma \"]\n",
        "b. lista2 = [\"Querido\", \"Señor\"]\n",
        "desarrollar un programe que de como resultado [“Hola Querido”, “Hola Señor”,'toma Querido”, 'toma Señor'"
      ],
      "metadata": {
        "id": "52tnRZNttm_U"
      }
    },
    {
      "cell_type": "code",
      "source": [
        "lista1 = [\"Hola \", \"toma \"]\n",
        "lista2 = [\"Querido\", \"Señor\"]\n",
        "lista3 = []\n",
        "for i in range(len(lista1)):\n",
        "  for j in range(len(lista2)):\n",
        "    lista3.append(lista1[i] + lista2[j])\n",
        "print(lista3)"
      ],
      "metadata": {
        "colab": {
          "base_uri": "https://localhost:8080/"
        },
        "id": "2oDSCQzstlj2",
        "outputId": "0dbcc8fe-0a40-430f-d434-1c76a9c80213"
      },
      "execution_count": null,
      "outputs": [
        {
          "output_type": "stream",
          "name": "stdout",
          "text": [
            "['Hola Querido', 'Hola Señor', 'toma Querido', 'toma Señor']\n"
          ]
        }
      ]
    },
    {
      "cell_type": "markdown",
      "source": [
        "#Ejercicio 5\n",
        "Dadas dos listas\n",
        "list1 = [10, 20, 30, 40]\n",
        "list2 = [100, 200, 300, 400]\n",
        "se desea construir un programa que imprima\n",
        "10 400\n",
        "20 300\n",
        "30 200\n",
        "40 100"
      ],
      "metadata": {
        "id": "Hlt4zqEbt9jK"
      }
    },
    {
      "cell_type": "code",
      "source": [
        "list1 = [10, 20, 30, 40]\n",
        "list2 = [100, 200, 300, 400]\n",
        "list2.reverse()\n",
        "for i in range(len(list1)):\n",
        "  print(list1[i], list2[i])"
      ],
      "metadata": {
        "colab": {
          "base_uri": "https://localhost:8080/"
        },
        "id": "raj-iR2St8IB",
        "outputId": "6d859ab3-3618-41a7-8b06-3a7f1c60e6cb"
      },
      "execution_count": null,
      "outputs": [
        {
          "output_type": "stream",
          "name": "stdout",
          "text": [
            "10 400\n",
            "20 300\n",
            "30 200\n",
            "40 100\n"
          ]
        }
      ]
    },
    {
      "cell_type": "markdown",
      "source": [
        "#Ejercicio 6\n",
        "Dada la lista [\"Mike\", \"\", \"Emma\", \"Kelly\", \"\", \"Brad\"] se desea un programa que elimine el elemento vacío"
      ],
      "metadata": {
        "id": "shR6h-ZSuVsA"
      }
    },
    {
      "cell_type": "code",
      "source": [
        "lista= [\"Mike\", \"\", \"Emma\", \"Kelly\", \"\", \"Brad\"]\n",
        "for i in lista:\n",
        "  if i == \"\":\n",
        "    lista.remove(i)\n",
        "print(lista)"
      ],
      "metadata": {
        "colab": {
          "base_uri": "https://localhost:8080/"
        },
        "id": "lX_7YR8muUue",
        "outputId": "087fa7ae-3cf7-4309-e6e6-fe9d71b2f4a0"
      },
      "execution_count": null,
      "outputs": [
        {
          "output_type": "stream",
          "name": "stdout",
          "text": [
            "['Mike', 'Emma', 'Kelly', 'Brad']\n"
          ]
        }
      ]
    },
    {
      "cell_type": "markdown",
      "source": [
        "#Ejercicio 7\n",
        "Dada la lista [10, 20, [300, 400, [5000, 6000], 500], 30, 40] se desea un programa que genere el siguiente resultado: [10, 20, [300, 400, [5000, 6000, 7000], 500], 30, 40]"
      ],
      "metadata": {
        "id": "McwYTnuouiQV"
      }
    },
    {
      "cell_type": "code",
      "source": [
        "lista= [10, 20, [300, 400, [5000, 6000], 500], 30, 40]\n",
        "lista[2][2].append(7000)\n",
        "print(lista)"
      ],
      "metadata": {
        "colab": {
          "base_uri": "https://localhost:8080/"
        },
        "id": "x91gLtvxupHG",
        "outputId": "ff3e1a09-8ed8-4427-e68d-702f1f3b9754"
      },
      "execution_count": null,
      "outputs": [
        {
          "output_type": "stream",
          "name": "stdout",
          "text": [
            "[10, 20, [300, 400, [5000, 6000, 7000], 500], 30, 40]\n"
          ]
        }
      ]
    },
    {
      "cell_type": "markdown",
      "source": [
        "#Ejercicio 8\n",
        "Dada dos listas\n",
        "lista1= [\"a\", \"b\", [\"c\", [\"d\", \"e\", [\"f\", \"g\"], \"k\"], \"l\"], \"m\", \"n\"]\n",
        "lista 2= [\"h\", \"i\", \"j\"]\n",
        "se desea un programa que imprima lo siguiente:\n",
        "['a', 'b', ['c', ['d', 'e', ['f', 'g', 'h', 'i', 'j'], 'k'], 'l'], 'm', 'n']"
      ],
      "metadata": {
        "id": "mV9MNzusu0FA"
      }
    },
    {
      "cell_type": "code",
      "source": [
        "lista1 = [\"a\", \"b\", [\"c\", [\"d\", \"e\", [\"f\", \"g\"], \"k\"], \"l\"], \"m\", \"n\"]\n",
        "lista2 = [\"h\", \"i\", \"j\"]\n",
        "lista1[2][1][2].extend(lista2)\n",
        "print(lista1)"
      ],
      "metadata": {
        "colab": {
          "base_uri": "https://localhost:8080/"
        },
        "id": "f28PjUW1uzrE",
        "outputId": "5be3d4bc-8b66-43b6-a256-ee6a53b01109"
      },
      "execution_count": null,
      "outputs": [
        {
          "output_type": "stream",
          "name": "stdout",
          "text": [
            "['a', 'b', ['c', ['d', 'e', ['f', 'g', 'h', 'i', 'j'], 'k'], 'l'], 'm', 'n']\n"
          ]
        }
      ]
    },
    {
      "cell_type": "markdown",
      "source": [
        "#Ejercicio 9\n",
        "Dada la lista [5, 10, 15, 20, 25, 50, 20] se desea un programa que reemplace el\n",
        "número de la mitad por 200.\n"
      ],
      "metadata": {
        "id": "MmNWMTtavI4h"
      }
    },
    {
      "cell_type": "code",
      "source": [
        "lista= [5, 10, 15, 20, 25, 50, 20]\n",
        "lista[lista.index(20)] = 200\n",
        "print(lista)"
      ],
      "metadata": {
        "colab": {
          "base_uri": "https://localhost:8080/"
        },
        "id": "D9_YEqLcvIeg",
        "outputId": "af29a363-b3fc-47aa-b74e-b0e2e4e9949d"
      },
      "execution_count": null,
      "outputs": [
        {
          "output_type": "stream",
          "name": "stdout",
          "text": [
            "[5, 10, 15, 200, 25, 50, 20]\n"
          ]
        }
      ]
    },
    {
      "cell_type": "markdown",
      "source": [
        "#Ejercicio 10\n",
        "Construya un programa que elimine de una lista todos los duplicados. Ejemplo, si se tiene una lista [5, 20, 15, 20, 25, 50, 20] imprime [5, 15, 25, 50]"
      ],
      "metadata": {
        "id": "dHaCp2bFv298"
      }
    },
    {
      "cell_type": "code",
      "source": [
        "lista = [5, 20, 15, 20, 25, 50, 20]\n",
        "# Crea una lista vacía para almacenar los elementos únicos\n",
        "resultado = [elemento for elemento in lista if lista.count(elemento) == 1]\n",
        "print(resultado)"
      ],
      "metadata": {
        "colab": {
          "base_uri": "https://localhost:8080/"
        },
        "id": "CgdWuueqv9yg",
        "outputId": "aa60fa50-b6f8-4ebc-9eee-80da873a7a35"
      },
      "execution_count": null,
      "outputs": [
        {
          "output_type": "stream",
          "name": "stdout",
          "text": [
            "[5, 15, 25, 50]\n"
          ]
        }
      ]
    },
    {
      "cell_type": "markdown",
      "source": [
        "#Ejercicio 11\n",
        "Construya una programa que cuente cuántas veces se repitan los elementos de una\n",
        "lista. Ejemplo, si se tiene una lista [5, 20, 15, 20, 25, 50, 20] imprima:\n",
        "5 = 1\n",
        "20 = 3\n",
        "15 = 1\n",
        "25= 1\n",
        "50 = 1"
      ],
      "metadata": {
        "id": "Uur56nAoxEwv"
      }
    },
    {
      "cell_type": "code",
      "source": [
        "lista= [5, 20, 15, 20, 25, 50, 20]\n",
        "lista2= []\n",
        "for i in lista:\n",
        "  if i not in lista2:\n",
        "    lista2.append(i)\n",
        "for i in lista2:\n",
        "  print(i, \"=\", lista.count(i))"
      ],
      "metadata": {
        "colab": {
          "base_uri": "https://localhost:8080/"
        },
        "id": "CqMTV-c_xK0A",
        "outputId": "2fad3ae5-458c-42af-e840-ddc156670235"
      },
      "execution_count": null,
      "outputs": [
        {
          "output_type": "stream",
          "name": "stdout",
          "text": [
            "5 = 1\n",
            "20 = 3\n",
            "15 = 1\n",
            "25 = 1\n",
            "50 = 1\n"
          ]
        }
      ]
    },
    {
      "cell_type": "markdown",
      "source": [
        "#Ejercicio 12\n",
        "Construya un programa que ordene los elementos de una lista de menor a mayor o\n",
        "viceversa"
      ],
      "metadata": {
        "id": "PYWU56g-xTCi"
      }
    },
    {
      "cell_type": "code",
      "source": [
        "lista= [40, 10, 30, 20, 60, 50, 100]\n",
        "lista.sort()\n",
        "print(lista)"
      ],
      "metadata": {
        "colab": {
          "base_uri": "https://localhost:8080/"
        },
        "id": "Rep2btifxXc9",
        "outputId": "d52dddbd-44e8-4bbe-a03b-2db838e0b896"
      },
      "execution_count": null,
      "outputs": [
        {
          "output_type": "stream",
          "name": "stdout",
          "text": [
            "[10, 20, 30, 40, 50, 60, 100]\n"
          ]
        }
      ]
    },
    {
      "cell_type": "markdown",
      "source": [
        "#Ejercicio 13\n",
        "Escriba un programa en Python que le permita al usuario obtener de una lista:\n",
        "a. La suma de todos sus elementos\n",
        "b. La multiplicación de todos sus elementos\n",
        "c. El número mayor\n",
        "d. El número menor"
      ],
      "metadata": {
        "id": "MOW_NtmaxmF6"
      }
    },
    {
      "cell_type": "code",
      "source": [
        "lista= [40, 10, 30, 20, 60, 50, 100]\n",
        "suma= 0\n",
        "multiplicacion= 1\n",
        "for i in lista:\n",
        "  suma += i\n",
        "  multiplicacion *= i\n",
        "print(\"La suma de todos sus elementos es:\", suma)\n",
        "print(\"La multiplicación de todos sus elementos es:\", multiplicacion)\n",
        "print(\"El número mayor es:\", max(lista))\n",
        "print(\"El número menor es:\", min(lista))"
      ],
      "metadata": {
        "colab": {
          "base_uri": "https://localhost:8080/"
        },
        "id": "mQBb1HfwxqOX",
        "outputId": "96a7a288-cdb8-4962-ada2-db7981548c87"
      },
      "execution_count": null,
      "outputs": [
        {
          "output_type": "stream",
          "name": "stdout",
          "text": [
            "La suma de todos sus elementos es: 310\n",
            "La multiplicación de todos sus elementos es: 72000000000\n",
            "El número mayor es: 100\n",
            "El número menor es: 10\n"
          ]
        }
      ]
    },
    {
      "cell_type": "markdown",
      "source": [
        "#Ejercicio 14\n",
        "Escriba un programa que calcule la diferencia entre dos listas."
      ],
      "metadata": {
        "id": "hfhw5unJx8LC"
      }
    },
    {
      "cell_type": "code",
      "source": [
        "lista1= [1,2,3,4]\n",
        "lista2= [1,2]\n",
        "lista3= []\n",
        "for i in lista1:\n",
        "  if i not in lista2:\n",
        "    lista3.append(i)\n",
        "print(lista3)"
      ],
      "metadata": {
        "colab": {
          "base_uri": "https://localhost:8080/"
        },
        "id": "_nrn1Kxjx_8q",
        "outputId": "a51c7fee-4922-4971-ca0d-12040bb09da4"
      },
      "execution_count": null,
      "outputs": [
        {
          "output_type": "stream",
          "name": "stdout",
          "text": [
            "[3, 4]\n"
          ]
        }
      ]
    },
    {
      "cell_type": "markdown",
      "source": [
        "#Ejercicio 15\n",
        "Escriba un programa que permita identificar el segundo y tercer elemento menor de una lista de 10 elementos."
      ],
      "metadata": {
        "id": "MEoPWyq3ydzF"
      }
    },
    {
      "cell_type": "code",
      "source": [
        "Lista1=[20,15,10,23,4,7,2,1,25,6]\n",
        "Lista1.sort()\n",
        "print(Lista1)\n",
        "print(\"El segundo elemento menor es:\",Lista1[1])\n",
        "print(\"El tercer elemento menor es:\",Lista1[2])\n"
      ],
      "metadata": {
        "id": "JAI8wia8yvlU",
        "colab": {
          "base_uri": "https://localhost:8080/"
        },
        "outputId": "e97e1bdb-137e-4d3f-ea0e-e67910dc8c47"
      },
      "execution_count": null,
      "outputs": [
        {
          "output_type": "stream",
          "name": "stdout",
          "text": [
            "[1, 2, 4, 6, 7, 10, 15, 20, 23, 25]\n",
            "El segundo elemento menor es: 2\n",
            "El tercer elemento menor es: 4\n"
          ]
        }
      ]
    },
    {
      "cell_type": "markdown",
      "source": [
        "#Ejercicio 16\n",
        "Crear un programa que cree múltiples listas de una lista principal, de tal forma que:\n",
        "1. La primera lista es la suma del segundo elemento con el primero.\n",
        "2. La segunda lista es la resta del segundo elemento con el primero. Si el\n",
        "número da negativo, se reemplaza con 0.\n",
        "3. La tercera lista multiplica cada uno de los elementos *2\n",
        "4. La cuarta lista eleva cada uno de los elementos al cuadrado.\n",
        "\n",
        "Ejemplo: Sea la lista [5, 20, 15, 20, 25, 50, 20] el programa imprime:\n",
        "- Lista1= [25,35,35,45,75,70]\n",
        "- Lista2=[0,0,5,5,25,0]\n",
        "- Lista3=[10,40,30,40,50,100,40]\n",
        "- Lista4=[25,400,225,400,625,2500,400]"
      ],
      "metadata": {
        "id": "YiWS1uTaT4pI"
      }
    },
    {
      "cell_type": "code",
      "source": [
        "lista_principal = [10,20,15,20,25,40,20]\n",
        "lista1 = []\n",
        "lista2 = []\n",
        "lista3 = []\n",
        "lista4 = []\n",
        "for i in range(len(lista_principal) - 1):\n",
        "  suma = lista_principal[i + 1] + lista_principal[i]\n",
        "  lista1.append(suma)\n",
        "  resta = lista_principal[i + 1] - lista_principal[i]\n",
        "  if resta < 0:\n",
        "    lista2.append(0)\n",
        "  else:\n",
        "    lista2.append(resta)\n",
        "for elemento in lista_principal:\n",
        "  lista3.append(elemento * 2)\n",
        "for elemento in lista_principal:\n",
        "  lista4.append(elemento ** 2)\n",
        "print(\"Lista1=\", lista1)\n",
        "print(\"Lista2=\", lista2)\n",
        "print(\"Lista3=\", lista3)\n",
        "print(\"Lista4=\", lista4)\n"
      ],
      "metadata": {
        "colab": {
          "base_uri": "https://localhost:8080/"
        },
        "id": "W6uXALsiVCD0",
        "outputId": "5428add1-447e-4e66-ed82-cea4955f1fd3"
      },
      "execution_count": null,
      "outputs": [
        {
          "output_type": "stream",
          "name": "stdout",
          "text": [
            "Lista1= [30, 35, 35, 45, 65, 60]\n",
            "Lista2= [10, 0, 5, 5, 15, 0]\n",
            "Lista3= [20, 40, 30, 40, 50, 80, 40]\n",
            "Lista4= [100, 400, 225, 400, 625, 1600, 400]\n"
          ]
        }
      ]
    },
    {
      "cell_type": "markdown",
      "source": [
        "#Ejercicio 17\n",
        "Escriba un programa que separe los elementos de una lista en el n-ésimo término.\n",
        "Ejemplo: sea la lista ['a', 'b', 'c', 'd', 'e', 'f', 'g', 'h', 'i', 'j', 'k', 'l', 'm', 'n'] y si n=5 la nueva lista será [['a', 'd', 'g', 'j', 'm'], ['b', 'e', 'h', 'k', 'n'], ['c', 'f', 'i', 'l']"
      ],
      "metadata": {
        "id": "NMx7IldTVszf"
      }
    },
    {
      "cell_type": "code",
      "source": [
        "lista=[\"a\",\"b\",\"c\",\"d\",\"e\",\"f\",\"g\",\"h\",\"i\",\"j\",\"k\",\"l\",\"m\",\"n\"]\n",
        "n=5\n",
        "lista2=[]\n",
        "for i in range(0,len(lista),n):\n",
        "  lista2.append(lista[i:i+n])\n",
        "print(lista2)"
      ],
      "metadata": {
        "colab": {
          "base_uri": "https://localhost:8080/"
        },
        "id": "23uLhdL4X1I6",
        "outputId": "46f680fd-c6b2-4744-ff41-18fbb211189a"
      },
      "execution_count": null,
      "outputs": [
        {
          "output_type": "stream",
          "name": "stdout",
          "text": [
            "[['a', 'b', 'c', 'd', 'e'], ['f', 'g', 'h', 'i', 'j'], ['k', 'l', 'm', 'n']]\n"
          ]
        }
      ]
    },
    {
      "cell_type": "markdown",
      "source": [
        "#Ejercicio 18\n",
        "Escriba un programa que mueva todos los ceros al final de una lista. Ejemplo, si se tiene la lista: [3, 4, 0, 0, 0, 6, 2, 0, 6, 7, 6, 0, 0, 0, 9, 10, 7, 4, 4, 5, 3, 0, 0, 2, 9, 7, 1] el resultado esperado es: [3, 4, 6, 2, 6, 7, 6, 9, 10, 7, 4, 4, 5, 3, 2, 9, 7, 1, 0, 0, 0, 0, 0, 0, 0, 0, 0]\n"
      ],
      "metadata": {
        "id": "yofm-8VDYcjv"
      }
    },
    {
      "cell_type": "code",
      "source": [
        "Lista=[5, 4, 0, 0, 8, 6, 2, 0, 6, 7, 6, 0, 0, 0, 9, 10, 7, 4, 4, 5, 3, 0, 0, 2, 9, 7, 1]\n",
        "for i in Lista:\n",
        "  if i==0:\n",
        "    Lista.remove(i)\n",
        "    Lista.append(i)\n",
        "print(Lista)"
      ],
      "metadata": {
        "colab": {
          "base_uri": "https://localhost:8080/"
        },
        "id": "b9DG3M65YnRH",
        "outputId": "001df229-5180-4ad4-8a41-2a56cbc69209"
      },
      "execution_count": null,
      "outputs": [
        {
          "output_type": "stream",
          "name": "stdout",
          "text": [
            "[5, 4, 8, 6, 2, 6, 7, 6, 9, 10, 7, 4, 4, 5, 3, 2, 9, 7, 1, 0, 0, 0, 0, 0, 0, 0, 0]\n"
          ]
        }
      ]
    },
    {
      "cell_type": "markdown",
      "source": [
        "#Ejercicios de clase (Diccionarios)"
      ],
      "metadata": {
        "id": "44CZijElar6w"
      }
    },
    {
      "cell_type": "markdown",
      "source": [
        "#Ejercicio 1\n",
        "Desarrolle un programa que genere un diccionario de dos listas. Ejemplo. Sean las listas [\"Black\", \"Red\", \"Maroon\", \"Yellow\"], [\"#000000\", \"#FF0000\", \"#800000\", \"#FFFF00\"], se espera: [{'color_name': 'Black', 'color_code': '#000000'}, {'color_name': 'Red', 'color_code': '#FF0000'}, {'color_name': 'Maroon', 'color_code':'#800000'}, {'color_name': 'Yellow', 'color_code': '#FFFF00'}]"
      ],
      "metadata": {
        "id": "0BLGnLOIawYd"
      }
    },
    {
      "cell_type": "code",
      "source": [
        "#Forma 1\n",
        "colors = [\"Black\", \"Red\", \"Maroon\", \"Yellow\"]\n",
        "codes = [\"#000000\", \"#FF0000\", \"#800000\", \"#FFFF00\"]\n",
        "result = []\n",
        "for i in range(len(colors)):\n",
        "    result.append({'color_name': colors[i], 'color_code': codes[i]})\n",
        "print(result)"
      ],
      "metadata": {
        "colab": {
          "base_uri": "https://localhost:8080/"
        },
        "id": "EMrZEqMczZ8l",
        "outputId": "ebb9e4fd-65da-4896-f1ba-aa38eb039670"
      },
      "execution_count": null,
      "outputs": [
        {
          "output_type": "stream",
          "name": "stdout",
          "text": [
            "[{'color_name': 'Black', 'color_code': '#000000'}, {'color_name': 'Red', 'color_code': '#FF0000'}, {'color_name': 'Maroon', 'color_code': '#800000'}, {'color_name': 'Yellow', 'color_code': '#FFFF00'}]\n"
          ]
        }
      ]
    },
    {
      "cell_type": "code",
      "source": [
        "#Forma 2\n",
        "lista1=[\"Black\", \"Red\", \"Maroon\", \"Yellow\"]\n",
        "lista2=[\"#000000\", \"#FF0000\", \"#800000\", \"#FFFF00\"]\n",
        "lista3=[]\n",
        "for i in range(len(lista1)):\n",
        "  lista3.append({lista1[i]:lista2[i]})\n",
        "print(lista3)"
      ],
      "metadata": {
        "colab": {
          "base_uri": "https://localhost:8080/"
        },
        "id": "ySJludDWa_Tv",
        "outputId": "6b3fca62-97a0-4ed5-865d-0c592b1ce095"
      },
      "execution_count": null,
      "outputs": [
        {
          "output_type": "stream",
          "name": "stdout",
          "text": [
            "[{'Black': '#000000'}, {'Red': '#FF0000'}, {'Maroon': '#800000'}, {'Yellow': '#FFFF00'}]\n"
          ]
        }
      ]
    },
    {
      "cell_type": "markdown",
      "source": [
        "#Ejercicio 2\n",
        "Desarrolle un programa que genera el siguiente diccionario, en donde el valor es el cuadrado de la clave de 15 números: {1: 1, 2: 4, 3: 9, 4: 16, 5: 25, 6: 36, 7: 49, 8: 64, 9: 81, 10: 100, 11: 121, 12: 144, 13: 169, 14: 196, 15: 225}"
      ],
      "metadata": {
        "id": "MIET1jgGby1x"
      }
    },
    {
      "cell_type": "code",
      "source": [
        "resultado={}\n",
        "for i in range(1,16):\n",
        "  resultado[i]=i**2\n",
        "print(resultado)"
      ],
      "metadata": {
        "id": "oVqSFMFXb89K",
        "colab": {
          "base_uri": "https://localhost:8080/"
        },
        "outputId": "7b60dc8e-b0c7-4a1c-db84-a050793d9580"
      },
      "execution_count": null,
      "outputs": [
        {
          "output_type": "stream",
          "name": "stdout",
          "text": [
            "{1: 1, 2: 4, 3: 9, 4: 16, 5: 25, 6: 36, 7: 49, 8: 64, 9: 81, 10: 100, 11: 121, 12: 144, 13: 169, 14: 196, 15: 225}\n"
          ]
        }
      ]
    },
    {
      "cell_type": "markdown",
      "source": [
        "#Ejercicio 3\n",
        "Sean dos diccionarios\n",
        "d1 = {'a': 100, 'b': 200, 'c':300}\n",
        "d2 = {'a': 300, 'b': 200, 'd':400}\n",
        "se desea que se genere un tercero tal que de como resultado ({'a': 400, 'b': 400, 'd': 400, 'c': 300})"
      ],
      "metadata": {
        "id": "53jQFQ3K0WT4"
      }
    },
    {
      "cell_type": "code",
      "source": [
        "d1={'a': 100, 'b': 200, 'c':300}\n",
        "d2={'a': 300, 'b': 200, 'd':400}\n",
        "resultado={}\n",
        "for key, value in d1.items():\n",
        "  if key in d2:\n",
        "    resultado[key]=value+d2[key]\n",
        "  else:\n",
        "    resultado[key]=value\n",
        "for key, value in d2.items():\n",
        "  if key not in resultado:\n",
        "    resultado[key]=value\n",
        "print(resultado)\n"
      ],
      "metadata": {
        "colab": {
          "base_uri": "https://localhost:8080/"
        },
        "id": "46FYP9kV0eTV",
        "outputId": "f45e1d27-1ffb-497b-d0d2-a15c1dea38d2"
      },
      "execution_count": null,
      "outputs": [
        {
          "output_type": "stream",
          "name": "stdout",
          "text": [
            "{'a': 400, 'b': 400, 'c': 300, 'd': 400}\n"
          ]
        }
      ]
    },
    {
      "cell_type": "markdown",
      "source": [
        "#Ejercicio 4\n",
        "Escriba un programa que imprima todos los valores únicos de un diccionario, tal\n",
        "que [{\"V\":\"S001\"}, {\"V\": \"S002\"}, {\"VI\": \"S001\"}, {\"VI\": \"S005\"}, {\"VII\":\"S005\"}, {\"V\":\"S009\"},{\"VIII\":\"S007\"}]\n",
        "imprima {'S005', 'S002', 'S007', 'S001', 'S009'}"
      ],
      "metadata": {
        "id": "Facezqbf3fwf"
      }
    },
    {
      "cell_type": "code",
      "source": [
        "dic1=[{\"V\":\"S001\"}, {\"V\": \"S002\"}, {\"VI\": \"S001\"}, {\"VI\": \"S005\"}, {\"VII\":\"S005\"}, {\"V\":\"S009\"},{\"VIII\":\"S007\"}]\n",
        "dic2=[]\n",
        "for i in dic1:\n",
        "  for j in i.values():\n",
        "    if j not in dic2:\n",
        "      dic2.append(j)\n",
        "print(dic2)"
      ],
      "metadata": {
        "colab": {
          "base_uri": "https://localhost:8080/"
        },
        "id": "hhP-b3s84ADr",
        "outputId": "df1e1ab9-0daf-4cbc-e9fa-85544297cca7"
      },
      "execution_count": null,
      "outputs": [
        {
          "output_type": "stream",
          "name": "stdout",
          "text": [
            "['S001', 'S002', 'S005', 'S009', 'S007']\n"
          ]
        }
      ]
    },
    {
      "cell_type": "markdown",
      "source": [
        "#Ejercicio 5\n",
        "Desarrollar un programa que genere un diccionario de una palabra y cuente cuántas veces se repita la letra en la palabra. Ejemplo: La palabra “Anita” genera el diccionario {“A”: 2, ”n”:1, ”i”:1, ”t”:1}"
      ],
      "metadata": {
        "id": "5uf6DUAn4gpe"
      }
    },
    {
      "cell_type": "code",
      "source": [
        "palabra = input(\"Ingresa una palabra: \")\n",
        "diccionario = {}\n",
        "for letra in palabra:\n",
        "    if letra in diccionario:\n",
        "        diccionario[letra] += 1\n",
        "    else:\n",
        "        diccionario[letra] = 1\n",
        "print(\"Frecuencia de cada letra:\")\n",
        "for letra, frecuencia in diccionario.items():\n",
        "    print(f\"{letra}: {frecuencia}\")\n"
      ],
      "metadata": {
        "colab": {
          "base_uri": "https://localhost:8080/"
        },
        "id": "76uvF8TL5A3-",
        "outputId": "f8980fc0-6a8b-4019-cce8-630bce6eafca"
      },
      "execution_count": null,
      "outputs": [
        {
          "output_type": "stream",
          "name": "stdout",
          "text": [
            "Ingresa una palabra: Marta\n",
            "Frecuencia de cada letra:\n",
            "M: 1\n",
            "a: 2\n",
            "r: 1\n",
            "t: 1\n"
          ]
        }
      ]
    },
    {
      "cell_type": "markdown",
      "source": [
        "#Ejercicio 6\n",
        "Desarrolle un programa que emule una caja registradora de 15 productos con sus\n",
        "respectivos precios. El programa debe generar una factura de compra y al final\n",
        "indicar al dueño del establecimiento:\n",
        "a. Cuántos productos se vendieron durante el día\n",
        "b. Cuál fue la ganancia total\n",
        "c. Cuál fue la mayor compra\n",
        "d. Cuántos clientes se atendieron en el día.\n",
        "e. El programa sólo puede realizarse con diccionarios."
      ],
      "metadata": {
        "id": "iuFev0xk5_gS"
      }
    },
    {
      "cell_type": "code",
      "source": [
        "# Diccionario de productos con sus respectivos precios\n",
        "productos = {\n",
        "    \"1\": {\"nombre\": \"Leche\", \"precio\": 10.99},\n",
        "    \"2\": {\"nombre\": \"Pan\", \"precio\": 5.99},\n",
        "    \"3\": {\"nombre\": \"Huevos\", \"precio\": 8.99},\n",
        "    \"4\": {\"nombre\": \"Queso\", \"precio\": 12.99},\n",
        "    \"5\": {\"nombre\": \"Carne\", \"precio\": 15.99},\n",
        "    \"6\": {\"nombre\": \"Pollo\", \"precio\": 13.99},\n",
        "    \"7\": {\"nombre\": \"Pescado\", \"precio\": 16.99},\n",
        "    \"8\": {\"nombre\": \"Frutas\", \"precio\": 9.99},\n",
        "    \"9\": {\"nombre\": \"Verduras\", \"precio\": 7.99},\n",
        "    \"10\": {\"nombre\": \"Cereales\", \"precio\": 11.99},\n",
        "    \"11\": {\"nombre\": \"Galletas\", \"precio\": 6.99},\n",
        "    \"12\": {\"nombre\": \"Chocolates\", \"precio\": 14.99},\n",
        "    \"13\": {\"nombre\": \"Bebidas\", \"precio\": 10.99},\n",
        "    \"14\": {\"nombre\": \"Snacks\", \"precio\": 8.99},\n",
        "    \"15\": {\"nombre\": \"Dulces\", \"precio\": 12.99}\n",
        "}\n",
        "# Diccionario para almacenar la información de la venta\n",
        "venta = {\n",
        "    \"productos\": {},\n",
        "    \"total\": 0,\n",
        "    \"mayor_compra\": 0,\n",
        "    \"clientes\": 0\n",
        "}\n",
        "# Ciclo para atender a los clientes\n",
        "while True:\n",
        "    print(\"Bienvenido a la tienda!\")\n",
        "    print(\"1. Realizar compra\")\n",
        "    print(\"2. Salir\")\n",
        "    opcion = input(\"Ingrese su opción: \")\n",
        "\n",
        "    if opcion == \"1\":\n",
        "        venta[\"clientes\"] += 1\n",
        "        print(\"Productos disponibles:\")\n",
        "        for clave, producto in productos.items():\n",
        "            print(f\"{clave}. {producto['nombre']} - ${producto['precio']:.2f}\")\n",
        "\n",
        "        while True:\n",
        "            clave = input(\"Ingrese el número del producto que desea comprar (0 para terminar): \")\n",
        "            if clave == \"0\":\n",
        "                break\n",
        "            elif clave in productos:\n",
        "                cantidad = int(input(\"Ingrese la cantidad que desea comprar: \"))\n",
        "                if clave not in venta[\"productos\"]:\n",
        "                    venta[\"productos\"][clave] = {\"cantidad\": 0, \"total\": 0}\n",
        "                venta[\"productos\"][clave][\"cantidad\"] += cantidad\n",
        "                venta[\"productos\"][clave][\"total\"] += productos[clave][\"precio\"] * cantidad\n",
        "                venta[\"total\"] += productos[clave][\"precio\"] * cantidad\n",
        "                if venta[\"productos\"][clave][\"total\"] > venta[\"mayor_compra\"]:\n",
        "                    venta[\"mayor_compra\"] = venta[\"productos\"][clave][\"total\"]\n",
        "            else:\n",
        "                print(\"Producto no disponible\")\n",
        "        print(\"Factura de compra:\")\n",
        "        for clave, producto in venta[\"productos\"].items():\n",
        "            print(f\"{productos[clave]['nombre']} x {producto['cantidad']} - ${producto['total']:.2f}\")\n",
        "        print(f\"Total: ${venta['total']:.2f}\")\n",
        "    elif opcion == \"2\":\n",
        "        print(\"Gracias por su compra!\")\n",
        "        print(f\"Productos vendidos: {len(venta['productos'])}\")\n",
        "        print(f\"Ganancia total: ${venta['total']:.2f}\")\n",
        "        print(f\"Mayor compra: ${venta['mayor_compra']:.2f}\")\n",
        "        print(f\"Clientes atendidos: {venta['clientes']}\")\n",
        "        break\n",
        "    else:\n",
        "        print(\"Opción no válida\")"
      ],
      "metadata": {
        "colab": {
          "base_uri": "https://localhost:8080/"
        },
        "id": "DpJWx9sp6Oka",
        "outputId": "c7059db3-21e4-462d-dff7-772471ee2387"
      },
      "execution_count": null,
      "outputs": [
        {
          "output_type": "stream",
          "name": "stdout",
          "text": [
            "Bienvenido a la tienda!\n",
            "1. Realizar compra\n",
            "2. Salir\n",
            "Ingrese su opción: 1\n",
            "Productos disponibles:\n",
            "1. Leche - $10.99\n",
            "2. Pan - $5.99\n",
            "3. Huevos - $8.99\n",
            "4. Queso - $12.99\n",
            "5. Carne - $15.99\n",
            "6. Pollo - $13.99\n",
            "7. Pescado - $16.99\n",
            "8. Frutas - $9.99\n",
            "9. Verduras - $7.99\n",
            "10. Cereales - $11.99\n",
            "11. Galletas - $6.99\n",
            "12. Chocolates - $14.99\n",
            "13. Bebidas - $10.99\n",
            "14. Snacks - $8.99\n",
            "15. Dulces - $12.99\n",
            "Ingrese el número del producto que desea comprar (0 para terminar): 14\n",
            "Ingrese la cantidad que desea comprar: 5\n",
            "Ingrese el número del producto que desea comprar (0 para terminar): 10\n",
            "Ingrese la cantidad que desea comprar: 2\n",
            "Ingrese el número del producto que desea comprar (0 para terminar): 0\n",
            "Factura de compra:\n",
            "Snacks x 5 - $44.95\n",
            "Cereales x 2 - $23.98\n",
            "Total: $68.93\n",
            "Bienvenido a la tienda!\n",
            "1. Realizar compra\n",
            "2. Salir\n",
            "Ingrese su opción: 2\n",
            "Gracias por su compra!\n",
            "Productos vendidos: 2\n",
            "Ganancia total: $68.93\n",
            "Mayor compra: $44.95\n",
            "Clientes atendidos: 1\n"
          ]
        }
      ]
    }
  ]
}