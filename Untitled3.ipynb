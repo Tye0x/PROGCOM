{
  "nbformat": 4,
  "nbformat_minor": 0,
  "metadata": {
    "colab": {
      "provenance": []
    },
    "kernelspec": {
      "name": "python3",
      "display_name": "Python 3"
    },
    "language_info": {
      "name": "python"
    }
  },
  "cells": [
    {
      "cell_type": "code",
      "execution_count": 2,
      "metadata": {
        "colab": {
          "base_uri": "https://localhost:8080/"
        },
        "id": "chAOwXlPu-Fp",
        "outputId": "eb532d4c-19bb-4e6c-b0d6-7b42db3be868"
      },
      "outputs": [
        {
          "output_type": "stream",
          "name": "stdout",
          "text": [
            "Productos disponibles:\n",
            "1. Manzana - $1.0\n",
            "2. Plátano - $0.5\n",
            "3. Naranja - $0.75\n",
            "4. Leche - $1.5\n",
            "5. Pan - $1.2\n",
            "6. Huevos - $2.0\n",
            "7. Queso - $3.0\n",
            "8. Yogurt - $1.8\n",
            "9. Carne - $5.0\n",
            "10. Pollo - $4.5\n",
            "Ingrese el número del producto (o 0 para finalizar): 1\n",
            "Ingrese la cantidad: 4\n",
            "4 Manzana(s) agregado(s) al carrito.\n",
            "Ingrese el número del producto (o 0 para finalizar): 5\n",
            "Ingrese la cantidad: 4\n",
            "4 Pan(s) agregado(s) al carrito.\n",
            "Ingrese el número del producto (o 0 para finalizar): 0\n",
            "Factura:\n",
            "Manzana x 4: $4.0\n",
            "Pan x 4: $4.8\n",
            "Total: $8.8\n"
          ]
        }
      ],
      "source": [
        "class Producto:\n",
        "  def __init__(self, nombre, precio):\n",
        "    self.nombre = nombre\n",
        "    self.precio = precio\n",
        "\n",
        "class CajaRegistradora:\n",
        "  def __init__(self):\n",
        "    self.productos = [\n",
        "        Producto(\"Manzana\", 1.0),\n",
        "        Producto(\"Plátano\", 0.5),\n",
        "        Producto(\"Naranja\", 0.75),\n",
        "        Producto(\"Leche\", 1.5),\n",
        "        Producto(\"Pan\", 1.2),\n",
        "        Producto(\"Huevos\", 2.0),\n",
        "        Producto(\"Queso\", 3.0),\n",
        "        Producto(\"Yogurt\", 1.8),\n",
        "        Producto(\"Carne\", 5.0),\n",
        "        Producto(\"Pollo\", 4.5)\n",
        "    ]\n",
        "    self.carrito = []\n",
        "\n",
        "  def mostrar_productos(self):\n",
        "    print(\"Productos disponibles:\")\n",
        "    for i, producto in enumerate(self.productos):\n",
        "      print(f\"{i+1}. {producto.nombre} - ${producto.precio}\")\n",
        "\n",
        "  def agregar_al_carrito(self, indice, cantidad):\n",
        "    if 0 <= indice < len(self.productos):\n",
        "      producto = self.productos[indice]\n",
        "      self.carrito.append((producto, cantidad))\n",
        "      print(f\"{cantidad} {producto.nombre}(s) agregado(s) al carrito.\")\n",
        "    else:\n",
        "      print(\"Índice de producto inválido.\")\n",
        "\n",
        "  def generar_factura(self):\n",
        "    total = 0\n",
        "    print(\"Factura:\")\n",
        "    for producto, cantidad in self.carrito:\n",
        "      subtotal = producto.precio * cantidad\n",
        "      print(f\"{producto.nombre} x {cantidad}: ${subtotal}\")\n",
        "      total += subtotal\n",
        "    print(f\"Total: ${total}\")\n",
        "\n",
        "caja = CajaRegistradora()\n",
        "caja.mostrar_productos()\n",
        "\n",
        "while True:\n",
        "  try:\n",
        "    indice_producto = int(input(\"Ingrese el número del producto (o 0 para finalizar): \"))\n",
        "    if indice_producto == 0:\n",
        "      break\n",
        "    cantidad_producto = int(input(\"Ingrese la cantidad: \"))\n",
        "    caja.agregar_al_carrito(indice_producto - 1, cantidad_producto)\n",
        "  except ValueError:\n",
        "    print(\"Entrada inválida. Por favor, ingrese un número.\")\n",
        "\n",
        "caja.generar_factura()"
      ]
    }
  ]
}